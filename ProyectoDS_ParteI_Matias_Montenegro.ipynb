{
 "cells": [
  {
   "cell_type": "markdown",
   "id": "21678a14-aff0-40bc-a209-3498b812a22b",
   "metadata": {},
   "source": [
    "# Pre entrega n°1 - Matias Nahuel Montenegro\n",
    "## Analisis de ventas de autos\n"
   ]
  },
  {
   "cell_type": "markdown",
   "id": "254acfa6-5e7b-4bd5-ac34-ca8152b59d67",
   "metadata": {},
   "source": [
    "## ABSTRACT\n",
    "\n",
    "### Resumen:\n",
    "#### Este analisis se basara en el dataset \"Car Sales Report\" disponible en Kaggle https://www.kaggle.com/datasets/missionjee/car-sales-report\n",
    "#### En el mismo se tendran en cuenta variables diversas tales como:\n",
    "- Genero del comprador\n",
    "- Marca de auto\n",
    "- Tipo de motor\n",
    "- Transmision\n",
    "- Color del auto\n",
    "\n",
    " ###  Hipótesis de interés:\n",
    "#### Basándonos en un análisis previo del dataset, planteamos las siguientes hipótesis:\n",
    "- Los hombres tienen una mayor preferencia por los autos con transmisión manual en comparación con las mujeres\n",
    "- Los autos tipo SUV son los más populares en comparación con otros tipos de vehículos\n",
    "- Los autos con precios más bajos tienen un mayor volumen de ventas en comparación con los autos de lujo.\n",
    "\n",
    "  ### Objetivos:\n",
    "- Probar las hipótesis planteadas mediante análisis estadísticos y visualizaciones.\n",
    "- Identificar patrones y tendencias en los datos.\n",
    "\n",
    "\n",
    "### Impacto:\n",
    "#### Los resultados de este estudio permitirán:\n",
    "- Comprender las Preferencias de los Consumidores por Género\n",
    "- Identificar las Tendencias del Mercado por Tipo de Vehículo\n",
    "- Optimizar Estrategias de Precios y Ofertas\n",
    "- Mejorar la Segmentación del Mercado"
   ]
  },
  {
   "cell_type": "code",
   "execution_count": 3,
   "id": "089dc298-6992-4503-b3a0-3a645f9267c8",
   "metadata": {},
   "outputs": [],
   "source": [
    "import pandas as pd\n",
    "from datetime import datetime, timedelta\n",
    "from matplotlib import pyplot as plt\n",
    "from matplotlib import dates as mpl_dates\n",
    "import seaborn as sns\n",
    "import numpy as np\n",
    "from mpl_toolkits.mplot3d import Axes3D"
   ]
  },
  {
   "cell_type": "code",
   "execution_count": 4,
   "id": "aec2dc27-e895-4f58-9bd9-5473e7ffb722",
   "metadata": {},
   "outputs": [
    {
     "data": {
      "text/html": [
       "<div>\n",
       "<style scoped>\n",
       "    .dataframe tbody tr th:only-of-type {\n",
       "        vertical-align: middle;\n",
       "    }\n",
       "\n",
       "    .dataframe tbody tr th {\n",
       "        vertical-align: top;\n",
       "    }\n",
       "\n",
       "    .dataframe thead th {\n",
       "        text-align: right;\n",
       "    }\n",
       "</style>\n",
       "<table border=\"1\" class=\"dataframe\">\n",
       "  <thead>\n",
       "    <tr style=\"text-align: right;\">\n",
       "      <th></th>\n",
       "      <th>Car_id</th>\n",
       "      <th>Date</th>\n",
       "      <th>Customer Name</th>\n",
       "      <th>Gender</th>\n",
       "      <th>Annual Income</th>\n",
       "      <th>Dealer_Name</th>\n",
       "      <th>Company</th>\n",
       "      <th>Model</th>\n",
       "      <th>Engine</th>\n",
       "      <th>Transmission</th>\n",
       "      <th>Color</th>\n",
       "      <th>Price ($)</th>\n",
       "      <th>Dealer_No</th>\n",
       "      <th>Body Style</th>\n",
       "      <th>Phone</th>\n",
       "      <th>Dealer_Region</th>\n",
       "    </tr>\n",
       "  </thead>\n",
       "  <tbody>\n",
       "    <tr>\n",
       "      <th>0</th>\n",
       "      <td>C_CND_000001</td>\n",
       "      <td>1/2/2022</td>\n",
       "      <td>Geraldine</td>\n",
       "      <td>Male</td>\n",
       "      <td>13500</td>\n",
       "      <td>Buddy Storbeck's Diesel Service Inc</td>\n",
       "      <td>Ford</td>\n",
       "      <td>Expedition</td>\n",
       "      <td>DoubleÂ Overhead Camshaft</td>\n",
       "      <td>Auto</td>\n",
       "      <td>Black</td>\n",
       "      <td>26000</td>\n",
       "      <td>06457-3834</td>\n",
       "      <td>SUV</td>\n",
       "      <td>8264678</td>\n",
       "      <td>Middletown</td>\n",
       "    </tr>\n",
       "    <tr>\n",
       "      <th>1</th>\n",
       "      <td>C_CND_000002</td>\n",
       "      <td>1/2/2022</td>\n",
       "      <td>Gia</td>\n",
       "      <td>Male</td>\n",
       "      <td>1480000</td>\n",
       "      <td>C &amp; M Motors Inc</td>\n",
       "      <td>Dodge</td>\n",
       "      <td>Durango</td>\n",
       "      <td>DoubleÂ Overhead Camshaft</td>\n",
       "      <td>Auto</td>\n",
       "      <td>Black</td>\n",
       "      <td>19000</td>\n",
       "      <td>60504-7114</td>\n",
       "      <td>SUV</td>\n",
       "      <td>6848189</td>\n",
       "      <td>Aurora</td>\n",
       "    </tr>\n",
       "    <tr>\n",
       "      <th>2</th>\n",
       "      <td>C_CND_000003</td>\n",
       "      <td>1/2/2022</td>\n",
       "      <td>Gianna</td>\n",
       "      <td>Male</td>\n",
       "      <td>1035000</td>\n",
       "      <td>Capitol KIA</td>\n",
       "      <td>Cadillac</td>\n",
       "      <td>Eldorado</td>\n",
       "      <td>Overhead Camshaft</td>\n",
       "      <td>Manual</td>\n",
       "      <td>Red</td>\n",
       "      <td>31500</td>\n",
       "      <td>38701-8047</td>\n",
       "      <td>Passenger</td>\n",
       "      <td>7298798</td>\n",
       "      <td>Greenville</td>\n",
       "    </tr>\n",
       "    <tr>\n",
       "      <th>3</th>\n",
       "      <td>C_CND_000004</td>\n",
       "      <td>1/2/2022</td>\n",
       "      <td>Giselle</td>\n",
       "      <td>Male</td>\n",
       "      <td>13500</td>\n",
       "      <td>Chrysler of Tri-Cities</td>\n",
       "      <td>Toyota</td>\n",
       "      <td>Celica</td>\n",
       "      <td>Overhead Camshaft</td>\n",
       "      <td>Manual</td>\n",
       "      <td>Pale White</td>\n",
       "      <td>14000</td>\n",
       "      <td>99301-3882</td>\n",
       "      <td>SUV</td>\n",
       "      <td>6257557</td>\n",
       "      <td>Pasco</td>\n",
       "    </tr>\n",
       "    <tr>\n",
       "      <th>4</th>\n",
       "      <td>C_CND_000005</td>\n",
       "      <td>1/2/2022</td>\n",
       "      <td>Grace</td>\n",
       "      <td>Male</td>\n",
       "      <td>1465000</td>\n",
       "      <td>Chrysler Plymouth</td>\n",
       "      <td>Acura</td>\n",
       "      <td>TL</td>\n",
       "      <td>DoubleÂ Overhead Camshaft</td>\n",
       "      <td>Auto</td>\n",
       "      <td>Red</td>\n",
       "      <td>24500</td>\n",
       "      <td>53546-9427</td>\n",
       "      <td>Hatchback</td>\n",
       "      <td>7081483</td>\n",
       "      <td>Janesville</td>\n",
       "    </tr>\n",
       "  </tbody>\n",
       "</table>\n",
       "</div>"
      ],
      "text/plain": [
       "         Car_id      Date Customer Name Gender  Annual Income  \\\n",
       "0  C_CND_000001  1/2/2022     Geraldine   Male          13500   \n",
       "1  C_CND_000002  1/2/2022           Gia   Male        1480000   \n",
       "2  C_CND_000003  1/2/2022        Gianna   Male        1035000   \n",
       "3  C_CND_000004  1/2/2022       Giselle   Male          13500   \n",
       "4  C_CND_000005  1/2/2022         Grace   Male        1465000   \n",
       "\n",
       "                           Dealer_Name   Company       Model  \\\n",
       "0  Buddy Storbeck's Diesel Service Inc      Ford  Expedition   \n",
       "1                     C & M Motors Inc     Dodge     Durango   \n",
       "2                          Capitol KIA  Cadillac    Eldorado   \n",
       "3               Chrysler of Tri-Cities    Toyota      Celica   \n",
       "4                    Chrysler Plymouth     Acura          TL   \n",
       "\n",
       "                      Engine Transmission       Color  Price ($)  Dealer_No   \\\n",
       "0  DoubleÂ Overhead Camshaft         Auto       Black      26000  06457-3834   \n",
       "1  DoubleÂ Overhead Camshaft         Auto       Black      19000  60504-7114   \n",
       "2          Overhead Camshaft       Manual         Red      31500  38701-8047   \n",
       "3          Overhead Camshaft       Manual  Pale White      14000  99301-3882   \n",
       "4  DoubleÂ Overhead Camshaft         Auto         Red      24500  53546-9427   \n",
       "\n",
       "  Body Style    Phone Dealer_Region  \n",
       "0        SUV  8264678    Middletown  \n",
       "1        SUV  6848189        Aurora  \n",
       "2  Passenger  7298798    Greenville  \n",
       "3        SUV  6257557         Pasco  \n",
       "4  Hatchback  7081483    Janesville  "
      ]
     },
     "execution_count": 4,
     "metadata": {},
     "output_type": "execute_result"
    }
   ],
   "source": [
    "df = pd.read_csv(\"Car Sales.csv\")\n",
    "df.head(5)"
   ]
  },
  {
   "cell_type": "code",
   "execution_count": 5,
   "id": "4a2277cd-f7b0-4eca-ba99-c3fb08709354",
   "metadata": {},
   "outputs": [
    {
     "data": {
      "text/plain": [
       "(23906, 16)"
      ]
     },
     "execution_count": 5,
     "metadata": {},
     "output_type": "execute_result"
    }
   ],
   "source": [
    "df.shape"
   ]
  },
  {
   "cell_type": "code",
   "execution_count": 6,
   "id": "af0a1da8-dc88-484a-aba6-3ae28db02e13",
   "metadata": {},
   "outputs": [
    {
     "data": {
      "text/html": [
       "<div>\n",
       "<style scoped>\n",
       "    .dataframe tbody tr th:only-of-type {\n",
       "        vertical-align: middle;\n",
       "    }\n",
       "\n",
       "    .dataframe tbody tr th {\n",
       "        vertical-align: top;\n",
       "    }\n",
       "\n",
       "    .dataframe thead th {\n",
       "        text-align: right;\n",
       "    }\n",
       "</style>\n",
       "<table border=\"1\" class=\"dataframe\">\n",
       "  <thead>\n",
       "    <tr style=\"text-align: right;\">\n",
       "      <th></th>\n",
       "      <th>Car_id</th>\n",
       "      <th>Date</th>\n",
       "      <th>Customer Name</th>\n",
       "      <th>Gender</th>\n",
       "      <th>Annual Income</th>\n",
       "      <th>Company</th>\n",
       "      <th>Model</th>\n",
       "      <th>Engine</th>\n",
       "      <th>Transmission</th>\n",
       "      <th>Color</th>\n",
       "      <th>Price ($)</th>\n",
       "      <th>Dealer_No</th>\n",
       "      <th>Body Style</th>\n",
       "      <th>Dealer_Region</th>\n",
       "    </tr>\n",
       "  </thead>\n",
       "  <tbody>\n",
       "    <tr>\n",
       "      <th>0</th>\n",
       "      <td>C_CND_000001</td>\n",
       "      <td>1/2/2022</td>\n",
       "      <td>Geraldine</td>\n",
       "      <td>Male</td>\n",
       "      <td>13500</td>\n",
       "      <td>Ford</td>\n",
       "      <td>Expedition</td>\n",
       "      <td>DoubleÂ Overhead Camshaft</td>\n",
       "      <td>Auto</td>\n",
       "      <td>Black</td>\n",
       "      <td>26000</td>\n",
       "      <td>06457-3834</td>\n",
       "      <td>SUV</td>\n",
       "      <td>Middletown</td>\n",
       "    </tr>\n",
       "    <tr>\n",
       "      <th>1</th>\n",
       "      <td>C_CND_000002</td>\n",
       "      <td>1/2/2022</td>\n",
       "      <td>Gia</td>\n",
       "      <td>Male</td>\n",
       "      <td>1480000</td>\n",
       "      <td>Dodge</td>\n",
       "      <td>Durango</td>\n",
       "      <td>DoubleÂ Overhead Camshaft</td>\n",
       "      <td>Auto</td>\n",
       "      <td>Black</td>\n",
       "      <td>19000</td>\n",
       "      <td>60504-7114</td>\n",
       "      <td>SUV</td>\n",
       "      <td>Aurora</td>\n",
       "    </tr>\n",
       "    <tr>\n",
       "      <th>2</th>\n",
       "      <td>C_CND_000003</td>\n",
       "      <td>1/2/2022</td>\n",
       "      <td>Gianna</td>\n",
       "      <td>Male</td>\n",
       "      <td>1035000</td>\n",
       "      <td>Cadillac</td>\n",
       "      <td>Eldorado</td>\n",
       "      <td>Overhead Camshaft</td>\n",
       "      <td>Manual</td>\n",
       "      <td>Red</td>\n",
       "      <td>31500</td>\n",
       "      <td>38701-8047</td>\n",
       "      <td>Passenger</td>\n",
       "      <td>Greenville</td>\n",
       "    </tr>\n",
       "    <tr>\n",
       "      <th>3</th>\n",
       "      <td>C_CND_000004</td>\n",
       "      <td>1/2/2022</td>\n",
       "      <td>Giselle</td>\n",
       "      <td>Male</td>\n",
       "      <td>13500</td>\n",
       "      <td>Toyota</td>\n",
       "      <td>Celica</td>\n",
       "      <td>Overhead Camshaft</td>\n",
       "      <td>Manual</td>\n",
       "      <td>Pale White</td>\n",
       "      <td>14000</td>\n",
       "      <td>99301-3882</td>\n",
       "      <td>SUV</td>\n",
       "      <td>Pasco</td>\n",
       "    </tr>\n",
       "    <tr>\n",
       "      <th>4</th>\n",
       "      <td>C_CND_000005</td>\n",
       "      <td>1/2/2022</td>\n",
       "      <td>Grace</td>\n",
       "      <td>Male</td>\n",
       "      <td>1465000</td>\n",
       "      <td>Acura</td>\n",
       "      <td>TL</td>\n",
       "      <td>DoubleÂ Overhead Camshaft</td>\n",
       "      <td>Auto</td>\n",
       "      <td>Red</td>\n",
       "      <td>24500</td>\n",
       "      <td>53546-9427</td>\n",
       "      <td>Hatchback</td>\n",
       "      <td>Janesville</td>\n",
       "    </tr>\n",
       "  </tbody>\n",
       "</table>\n",
       "</div>"
      ],
      "text/plain": [
       "         Car_id      Date Customer Name Gender  Annual Income   Company  \\\n",
       "0  C_CND_000001  1/2/2022     Geraldine   Male          13500      Ford   \n",
       "1  C_CND_000002  1/2/2022           Gia   Male        1480000     Dodge   \n",
       "2  C_CND_000003  1/2/2022        Gianna   Male        1035000  Cadillac   \n",
       "3  C_CND_000004  1/2/2022       Giselle   Male          13500    Toyota   \n",
       "4  C_CND_000005  1/2/2022         Grace   Male        1465000     Acura   \n",
       "\n",
       "        Model                     Engine Transmission       Color  Price ($)  \\\n",
       "0  Expedition  DoubleÂ Overhead Camshaft         Auto       Black      26000   \n",
       "1     Durango  DoubleÂ Overhead Camshaft         Auto       Black      19000   \n",
       "2    Eldorado          Overhead Camshaft       Manual         Red      31500   \n",
       "3      Celica          Overhead Camshaft       Manual  Pale White      14000   \n",
       "4          TL  DoubleÂ Overhead Camshaft         Auto         Red      24500   \n",
       "\n",
       "   Dealer_No  Body Style Dealer_Region  \n",
       "0  06457-3834        SUV    Middletown  \n",
       "1  60504-7114        SUV        Aurora  \n",
       "2  38701-8047  Passenger    Greenville  \n",
       "3  99301-3882        SUV         Pasco  \n",
       "4  53546-9427  Hatchback    Janesville  "
      ]
     },
     "execution_count": 6,
     "metadata": {},
     "output_type": "execute_result"
    }
   ],
   "source": [
    "df = df.drop(columns=\"Phone\")\n",
    "df = df.drop(columns=\"Dealer_Name\")\n",
    "df.head(5)\n",
    "\n"
   ]
  },
  {
   "cell_type": "code",
   "execution_count": 7,
   "id": "d859a8b7-08e5-499b-9910-255d775ea392",
   "metadata": {},
   "outputs": [
    {
     "data": {
      "text/html": [
       "<div>\n",
       "<style scoped>\n",
       "    .dataframe tbody tr th:only-of-type {\n",
       "        vertical-align: middle;\n",
       "    }\n",
       "\n",
       "    .dataframe tbody tr th {\n",
       "        vertical-align: top;\n",
       "    }\n",
       "\n",
       "    .dataframe thead th {\n",
       "        text-align: right;\n",
       "    }\n",
       "</style>\n",
       "<table border=\"1\" class=\"dataframe\">\n",
       "  <thead>\n",
       "    <tr style=\"text-align: right;\">\n",
       "      <th></th>\n",
       "      <th>Annual Income</th>\n",
       "      <th>Price ($)</th>\n",
       "    </tr>\n",
       "  </thead>\n",
       "  <tbody>\n",
       "    <tr>\n",
       "      <th>count</th>\n",
       "      <td>23906.00</td>\n",
       "      <td>23906.00</td>\n",
       "    </tr>\n",
       "    <tr>\n",
       "      <th>mean</th>\n",
       "      <td>830840.29</td>\n",
       "      <td>28090.25</td>\n",
       "    </tr>\n",
       "    <tr>\n",
       "      <th>std</th>\n",
       "      <td>720006.40</td>\n",
       "      <td>14788.69</td>\n",
       "    </tr>\n",
       "    <tr>\n",
       "      <th>min</th>\n",
       "      <td>10080.00</td>\n",
       "      <td>1200.00</td>\n",
       "    </tr>\n",
       "    <tr>\n",
       "      <th>25%</th>\n",
       "      <td>386000.00</td>\n",
       "      <td>18001.00</td>\n",
       "    </tr>\n",
       "    <tr>\n",
       "      <th>50%</th>\n",
       "      <td>735000.00</td>\n",
       "      <td>23000.00</td>\n",
       "    </tr>\n",
       "    <tr>\n",
       "      <th>75%</th>\n",
       "      <td>1175750.00</td>\n",
       "      <td>34000.00</td>\n",
       "    </tr>\n",
       "    <tr>\n",
       "      <th>max</th>\n",
       "      <td>11200000.00</td>\n",
       "      <td>85800.00</td>\n",
       "    </tr>\n",
       "  </tbody>\n",
       "</table>\n",
       "</div>"
      ],
      "text/plain": [
       "       Annual Income  Price ($)\n",
       "count       23906.00   23906.00\n",
       "mean       830840.29   28090.25\n",
       "std        720006.40   14788.69\n",
       "min         10080.00    1200.00\n",
       "25%        386000.00   18001.00\n",
       "50%        735000.00   23000.00\n",
       "75%       1175750.00   34000.00\n",
       "max      11200000.00   85800.00"
      ]
     },
     "execution_count": 7,
     "metadata": {},
     "output_type": "execute_result"
    }
   ],
   "source": [
    "df.describe().round(2)"
   ]
  },
  {
   "cell_type": "markdown",
   "id": "7f801a5d-4707-4ea5-a10b-027a663ed859",
   "metadata": {},
   "source": [
    "### De la resolucion anterior podemos afirmar que:\n",
    "\n",
    "-La media de ingresos anuales es de $83.0840 dolares\n",
    "\n",
    "-El ingreso mas bajo es de $10.080 dolares\n",
    "\n",
    "-El ingreso mas alto es de $11.200.000 dolares"
   ]
  },
  {
   "cell_type": "code",
   "execution_count": 9,
   "id": "7eec1135-b31e-4915-95ce-f16c31ba6316",
   "metadata": {},
   "outputs": [
    {
     "name": "stdout",
     "output_type": "stream",
     "text": [
      "   Gender    Sex\n",
      "0  Female   5108\n",
      "1    Male  18798\n"
     ]
    }
   ],
   "source": [
    "df_sex = df[['Gender']].groupby(by=['Gender']).size().reset_index(name='Sex')      \n",
    "print(df_sex)\n"
   ]
  },
  {
   "cell_type": "code",
   "execution_count": 10,
   "id": "76b9d84d-01c8-4782-8286-6c47a85565ca",
   "metadata": {},
   "outputs": [
    {
     "data": {
      "image/png": "[encoded data removed]",
      "text/plain": [
       "<Figure size 800x800 with 1 Axes>"
      ]
     },
     "metadata": {},
     "output_type": "display_data"
    }
   ],
   "source": [
    "plt.figure(figsize=(8, 8))\n",
    "plt.pie(df_sex['Sex'],labels=df_sex['Gender'], autopct='%1.1f%%', startangle=140)\n",
    "plt.title('Distribución de Ventas por Genero')\n",
    "plt.show()"
   ]
  },
  {
   "cell_type": "markdown",
   "id": "cd5ff6c3-60c4-42cf-8471-ec46d27d5d28",
   "metadata": {},
   "source": [
    "### Ventas por genero\n",
    "#### -Sabiendo que el 78.6% de las ventas corresponden a un hombre, ahora queremos saber si la eleccion de la transmision tiene  incidencia en el genero"
   ]
  },
  {
   "cell_type": "code",
   "execution_count": 12,
   "id": "3e2153cd-b207-4d32-80c2-d4b881db64b4",
   "metadata": {},
   "outputs": [
    {
     "name": "stdout",
     "output_type": "stream",
     "text": [
      "   Gender Transmission  Cantidad\n",
      "0  Female         Auto      2699\n",
      "1  Female       Manual      2409\n",
      "2    Male         Auto      9872\n",
      "3    Male       Manual      8926\n"
     ]
    }
   ],
   "source": [
    "df_transmission = df[['Gender','Transmission']].groupby(by=['Gender','Transmission']).size().reset_index(name='Cantidad')      \n",
    "print(df_transmission)"
   ]
  },
  {
   "cell_type": "markdown",
   "id": "9c5cf855-8626-4ab8-ba9b-5d5471f3a4f6",
   "metadata": {},
   "source": [
    "### En los dos casos podemos ver que hay una preferencia por la caja automatica, incluso en los hombres la brecha es mas grande."
   ]
  },
  {
   "cell_type": "code",
   "execution_count": 14,
   "id": "dc524f99-b046-4cce-9b77-ade88b145106",
   "metadata": {},
   "outputs": [
    {
     "data": {
      "text/plain": [
       "<Axes: xlabel='Gender', ylabel='Cantidad'>"
      ]
     },
     "execution_count": 14,
     "metadata": {},
     "output_type": "execute_result"
    },
    {
     "data": {
      "image/png": "[encoded data removed]",
      "text/plain": [
       "<Figure size 640x480 with 1 Axes>"
      ]
     },
     "metadata": {},
     "output_type": "display_data"
    }
   ],
   "source": [
    "sns.barplot(x='Gender',y='Cantidad',hue='Transmission',data=df_transmission)"
   ]
  },
  {
   "cell_type": "code",
   "execution_count": 15,
   "id": "672cda01-f2c9-4be0-9932-ae74a2ed9521",
   "metadata": {},
   "outputs": [
    {
     "data": {
      "text/html": [
       "<div>\n",
       "<style scoped>\n",
       "    .dataframe tbody tr th:only-of-type {\n",
       "        vertical-align: middle;\n",
       "    }\n",
       "\n",
       "    .dataframe tbody tr th {\n",
       "        vertical-align: top;\n",
       "    }\n",
       "\n",
       "    .dataframe thead th {\n",
       "        text-align: right;\n",
       "    }\n",
       "</style>\n",
       "<table border=\"1\" class=\"dataframe\">\n",
       "  <thead>\n",
       "    <tr style=\"text-align: right;\">\n",
       "      <th></th>\n",
       "      <th>Body Style</th>\n",
       "      <th>Cantidad</th>\n",
       "    </tr>\n",
       "  </thead>\n",
       "  <tbody>\n",
       "    <tr>\n",
       "      <th>0</th>\n",
       "      <td>Hardtop</td>\n",
       "      <td>2971</td>\n",
       "    </tr>\n",
       "    <tr>\n",
       "      <th>1</th>\n",
       "      <td>Hatchback</td>\n",
       "      <td>6128</td>\n",
       "    </tr>\n",
       "    <tr>\n",
       "      <th>2</th>\n",
       "      <td>Passenger</td>\n",
       "      <td>3945</td>\n",
       "    </tr>\n",
       "    <tr>\n",
       "      <th>3</th>\n",
       "      <td>SUV</td>\n",
       "      <td>6374</td>\n",
       "    </tr>\n",
       "    <tr>\n",
       "      <th>4</th>\n",
       "      <td>Sedan</td>\n",
       "      <td>4488</td>\n",
       "    </tr>\n",
       "  </tbody>\n",
       "</table>\n",
       "</div>"
      ],
      "text/plain": [
       "  Body Style  Cantidad\n",
       "0    Hardtop      2971\n",
       "1  Hatchback      6128\n",
       "2  Passenger      3945\n",
       "3        SUV      6374\n",
       "4      Sedan      4488"
      ]
     },
     "execution_count": 15,
     "metadata": {},
     "output_type": "execute_result"
    }
   ],
   "source": [
    "df_body_style = df[['Body Style']].groupby(by=['Body Style']).size().reset_index(name='Cantidad')      \n",
    "df_body_style"
   ]
  },
  {
   "cell_type": "code",
   "execution_count": 16,
   "id": "827513ce-febc-45ff-94bf-15bcfc3b4468",
   "metadata": {},
   "outputs": [
    {
     "data": {
      "image/png": "[encoded data removed]",
      "text/plain": [
       "<Figure size 800x800 with 1 Axes>"
      ]
     },
     "metadata": {},
     "output_type": "display_data"
    }
   ],
   "source": [
    "plt.figure(figsize=(8, 8))\n",
    "plt.pie(df_body_style['Cantidad'],labels=df_body_style['Body Style'], autopct='%1.1f%%', startangle=140)\n",
    "plt.title('Distribución de Ventas por estilo de carroceria')\n",
    "plt.show()"
   ]
  },
  {
   "cell_type": "markdown",
   "id": "7ebdec55-ef07-4591-bd99-a610d2e78e0e",
   "metadata": {},
   "source": [
    "### El tipo de carroceria mas elegido es el SUV\n",
    "### El menos elegido es el Hardtop"
   ]
  },
  {
   "cell_type": "code",
   "execution_count": 18,
   "id": "69a22f6c-42ec-4778-b8b2-450885c5ce73",
   "metadata": {},
   "outputs": [
    {
     "data": {
      "text/html": [
       "<div>\n",
       "<style scoped>\n",
       "    .dataframe tbody tr th:only-of-type {\n",
       "        vertical-align: middle;\n",
       "    }\n",
       "\n",
       "    .dataframe tbody tr th {\n",
       "        vertical-align: top;\n",
       "    }\n",
       "\n",
       "    .dataframe thead th {\n",
       "        text-align: right;\n",
       "    }\n",
       "</style>\n",
       "<table border=\"1\" class=\"dataframe\">\n",
       "  <thead>\n",
       "    <tr style=\"text-align: right;\">\n",
       "      <th></th>\n",
       "      <th>Price ($)</th>\n",
       "      <th>Cantidad</th>\n",
       "    </tr>\n",
       "  </thead>\n",
       "  <tbody>\n",
       "    <tr>\n",
       "      <th>0</th>\n",
       "      <td>1200</td>\n",
       "      <td>1</td>\n",
       "    </tr>\n",
       "    <tr>\n",
       "      <th>1</th>\n",
       "      <td>1450</td>\n",
       "      <td>1</td>\n",
       "    </tr>\n",
       "    <tr>\n",
       "      <th>2</th>\n",
       "      <td>1700</td>\n",
       "      <td>1</td>\n",
       "    </tr>\n",
       "    <tr>\n",
       "      <th>3</th>\n",
       "      <td>2200</td>\n",
       "      <td>1</td>\n",
       "    </tr>\n",
       "    <tr>\n",
       "      <th>4</th>\n",
       "      <td>4200</td>\n",
       "      <td>1</td>\n",
       "    </tr>\n",
       "    <tr>\n",
       "      <th>...</th>\n",
       "      <td>...</td>\n",
       "      <td>...</td>\n",
       "    </tr>\n",
       "    <tr>\n",
       "      <th>865</th>\n",
       "      <td>85400</td>\n",
       "      <td>1</td>\n",
       "    </tr>\n",
       "    <tr>\n",
       "      <th>866</th>\n",
       "      <td>85500</td>\n",
       "      <td>2</td>\n",
       "    </tr>\n",
       "    <tr>\n",
       "      <th>867</th>\n",
       "      <td>85600</td>\n",
       "      <td>2</td>\n",
       "    </tr>\n",
       "    <tr>\n",
       "      <th>868</th>\n",
       "      <td>85601</td>\n",
       "      <td>1</td>\n",
       "    </tr>\n",
       "    <tr>\n",
       "      <th>869</th>\n",
       "      <td>85800</td>\n",
       "      <td>1</td>\n",
       "    </tr>\n",
       "  </tbody>\n",
       "</table>\n",
       "<p>870 rows × 2 columns</p>\n",
       "</div>"
      ],
      "text/plain": [
       "     Price ($)  Cantidad\n",
       "0         1200         1\n",
       "1         1450         1\n",
       "2         1700         1\n",
       "3         2200         1\n",
       "4         4200         1\n",
       "..         ...       ...\n",
       "865      85400         1\n",
       "866      85500         2\n",
       "867      85600         2\n",
       "868      85601         1\n",
       "869      85800         1\n",
       "\n",
       "[870 rows x 2 columns]"
      ]
     },
     "execution_count": 18,
     "metadata": {},
     "output_type": "execute_result"
    }
   ],
   "source": [
    "df_mas_vendidos= df[['Price ($)']].groupby(by=['Price ($)']).size().reset_index(name='Cantidad')      \n",
    "df_mas_vendidos"
   ]
  },
  {
   "cell_type": "code",
   "execution_count": 19,
   "id": "e9656bb1-fe51-4b73-8f2a-3e65c59f7889",
   "metadata": {},
   "outputs": [
    {
     "data": {
      "text/html": [
       "<div>\n",
       "<style scoped>\n",
       "    .dataframe tbody tr th:only-of-type {\n",
       "        vertical-align: middle;\n",
       "    }\n",
       "\n",
       "    .dataframe tbody tr th {\n",
       "        vertical-align: top;\n",
       "    }\n",
       "\n",
       "    .dataframe thead th {\n",
       "        text-align: right;\n",
       "    }\n",
       "</style>\n",
       "<table border=\"1\" class=\"dataframe\">\n",
       "  <thead>\n",
       "    <tr style=\"text-align: right;\">\n",
       "      <th></th>\n",
       "      <th>Price ($)</th>\n",
       "      <th>Cantidad</th>\n",
       "    </tr>\n",
       "  </thead>\n",
       "  <tbody>\n",
       "    <tr>\n",
       "      <th>count</th>\n",
       "      <td>870.00</td>\n",
       "      <td>870.00</td>\n",
       "    </tr>\n",
       "    <tr>\n",
       "      <th>mean</th>\n",
       "      <td>32851.88</td>\n",
       "      <td>27.48</td>\n",
       "    </tr>\n",
       "    <tr>\n",
       "      <th>std</th>\n",
       "      <td>18509.43</td>\n",
       "      <td>97.60</td>\n",
       "    </tr>\n",
       "    <tr>\n",
       "      <th>min</th>\n",
       "      <td>1200.00</td>\n",
       "      <td>1.00</td>\n",
       "    </tr>\n",
       "    <tr>\n",
       "      <th>25%</th>\n",
       "      <td>18500.25</td>\n",
       "      <td>1.00</td>\n",
       "    </tr>\n",
       "    <tr>\n",
       "      <th>50%</th>\n",
       "      <td>27275.50</td>\n",
       "      <td>2.00</td>\n",
       "    </tr>\n",
       "    <tr>\n",
       "      <th>75%</th>\n",
       "      <td>43600.75</td>\n",
       "      <td>6.00</td>\n",
       "    </tr>\n",
       "    <tr>\n",
       "      <th>max</th>\n",
       "      <td>85800.00</td>\n",
       "      <td>1191.00</td>\n",
       "    </tr>\n",
       "  </tbody>\n",
       "</table>\n",
       "</div>"
      ],
      "text/plain": [
       "       Price ($)  Cantidad\n",
       "count     870.00    870.00\n",
       "mean    32851.88     27.48\n",
       "std     18509.43     97.60\n",
       "min      1200.00      1.00\n",
       "25%     18500.25      1.00\n",
       "50%     27275.50      2.00\n",
       "75%     43600.75      6.00\n",
       "max     85800.00   1191.00"
      ]
     },
     "execution_count": 19,
     "metadata": {},
     "output_type": "execute_result"
    }
   ],
   "source": [
    "df_mas_vendidos.describe().round(2)"
   ]
  },
  {
   "cell_type": "markdown",
   "id": "a7bc3dde-d8ed-45fc-92b9-556e981bc492",
   "metadata": {},
   "source": [
    "## Ventas\n",
    "#### El valor media de compra es de $32851"
   ]
  },
  {
   "cell_type": "code",
   "execution_count": 21,
   "id": "30aac04c-53b3-4327-a61e-9f489e76e37c",
   "metadata": {},
   "outputs": [
    {
     "data": {
      "image/png": "[encoded data removed]",
      "text/plain": [
       "<Figure size 1500x600 with 1 Axes>"
      ]
     },
     "metadata": {},
     "output_type": "display_data"
    }
   ],
   "source": [
    "plt.figure(figsize=(15,6)) \n",
    "sns.lineplot(x='Price ($)',y='Cantidad',data=df_mas_vendidos)\n",
    "plt.xticks(ticks=range(0, int(df_mas_vendidos['Price ($)'].max()) + 1, 10000))\n",
    "plt.show()"
   ]
  },
  {
   "cell_type": "markdown",
   "id": "87b302f9-721a-4363-bbd4-4cab2b2ede3c",
   "metadata": {},
   "source": [
    "### Podemos observar que el mayor volumen de compra esta comprendido en los autos que valen entre 12.000 a 30.000 dolares"
   ]
  },
  {
   "cell_type": "markdown",
   "id": "5a1afb3a-aed5-44f3-af06-f5df3dc31995",
   "metadata": {},
   "source": [
    "## Resultados de las observaciones\n",
    "\n",
    "### Eleccion de la transmision:\n",
    "#### En ambos casos, es evidente que existe una marcada preferencia por los vehículos con caja automática. Esta tendencia se manifiesta de manera clara tanto en hombres como en mujeres, pero es aún más pronunciada entre los hombres. A pesar de lo que podría ser una creencia común, los datos no muestran una inclinación de los hombres hacia la caja manual en comparación con las mujeres. De hecho, la diferencia en la preferencia por la caja automática es considerablemente mayor entre los hombres, lo que refuerza la idea de que, en general, la transmisión automática es la opción más favorecida entre todos los grupos, independientemente del género. Esto sugiere que la percepción tradicional de que los hombres prefieren la caja manual no se sostiene frente a los datos actuales, que indican una preferencia generalizada por la comodidad y conveniencia que ofrece la transmisión automática.\n",
    "\n",
    "### Eleccion del tipo de carroceria:\n",
    "#### El tipo de carrocería más popular y preferido por los compradores es el SUV. Este vehículo destaca por su versatilidad, espacio y capacidad para adaptarse a diversas necesidades, lo que lo convierte en la elección principal entre los consumidores. Por otro lado, el tipo de carrocería menos elegido es el Hardtop. A pesar de sus características únicas, el Hardtop no logra captar la misma atención ni interés que otros tipos de carrocería, posicionándose como la opción menos popular entre los compradores. Esta disparidad en las preferencias subraya la tendencia actual del mercado, donde los SUV dominan debido a su practicidad y popularidad, mientras que otros estilos, como el Hardtop, quedan rezagados en términos de demanda.\n",
    "\n",
    "### Valor de compra\n",
    "#### Podemos notar que el mayor volumen de compras se concentra en los automóviles cuyo precio se encuentra en el rango de entre 12,000 y 30,000 dólares. Este intervalo de precios parece ser el más atractivo para los consumidores, ya que representa una categoría que equilibra accesibilidad y valor. Los vehículos dentro de este rango de precios probablemente ofrecen una combinación favorable de características, calidad y costo, lo que los hace especialmente atractivos para un amplio espectro de compradores. En consecuencia, los autos que se encuentran dentro de este rango de precios disfrutan de una mayor demanda en comparación con los vehículos de precios más bajos o más altos, lo que indica que los consumidores prefieren opciones que proporcionen una buena relación entre el costo y los beneficios que ofrecen."
   ]
  },
  {
   "cell_type": "code",
   "execution_count": null,
   "id": "76f7aa52-b7a8-4834-9835-3f5ec1bb4e36",
   "metadata": {},
   "outputs": [],
   "source": []
  }
 ],
 "metadata": {
  "kernelspec": {
   "display_name": "Python 3 (ipykernel)",
   "language": "python",
   "name": "python3"
  },
  "language_info": {
   "codemirror_mode": {
    "name": "ipython",
    "version": 3
   },
   "file_extension": ".py",
   "mimetype": "text/x-python",
   "name": "python",
   "nbconvert_exporter": "python",
   "pygments_lexer": "ipython3",
   "version": "3.12.4"
  }
 },
 "nbformat": 4,
 "nbformat_minor": 5
}
